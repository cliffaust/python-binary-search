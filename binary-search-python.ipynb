{
 "cells": [
  {
   "cell_type": "code",
   "execution_count": 23,
   "id": "661ba4d5",
   "metadata": {},
   "outputs": [
    {
     "data": {
      "text/plain": [
       "1633223693.1009018"
      ]
     },
     "execution_count": 23,
     "metadata": {},
     "output_type": "execute_result"
    }
   ],
   "source": [
    "# search fuction\n",
    "\n",
    "from time import time\n",
    "time()"
   ]
  },
  {
   "cell_type": "code",
   "execution_count": 24,
   "id": "88790e23",
   "metadata": {},
   "outputs": [],
   "source": [
    "num = []\n",
    "for i in range(1, 100000):\n",
    "    num.append(i)"
   ]
  },
  {
   "cell_type": "code",
   "execution_count": 25,
   "id": "594abb39",
   "metadata": {},
   "outputs": [],
   "source": [
    "def linear_search(num):\n",
    "    for i in num:\n",
    "        if i == 98969:\n",
    "            return \"Done\""
   ]
  },
  {
   "cell_type": "code",
   "execution_count": 26,
   "id": "4aaeff74",
   "metadata": {},
   "outputs": [
    {
     "name": "stdout",
     "output_type": "stream",
     "text": [
      "Done\n",
      "0.009637117385864258\n"
     ]
    }
   ],
   "source": [
    "start = time()\n",
    "\n",
    "print(linear_search(num))\n",
    "\n",
    "end = time()\n",
    "\n",
    "print(end - start)"
   ]
  },
  {
   "cell_type": "code",
   "execution_count": 27,
   "id": "06435122",
   "metadata": {},
   "outputs": [],
   "source": [
    "def binary_search(arr, num):    \n",
    "    left = 0\n",
    "    right = len(arr) - 1\n",
    "    \n",
    "    while right >= left:\n",
    "        mid = int((right - left) / 2)\n",
    "        if arr[mid] == num:\n",
    "            return f\"found in {mid}\"\n",
    "        elif num < arr[mid]:\n",
    "            right = mid - 1\n",
    "            return f\"found in {mid}\"\n",
    "        else:\n",
    "            left = mid + 1\n",
    "            return f\"found in {mid}\""
   ]
  },
  {
   "cell_type": "code",
   "execution_count": 28,
   "id": "a4e4a6aa",
   "metadata": {},
   "outputs": [
    {
     "name": "stdout",
     "output_type": "stream",
     "text": [
      "0.00010085105895996094\n"
     ]
    }
   ],
   "source": [
    "start = time()\n",
    "\n",
    "binary_search(num, 98969)\n",
    "\n",
    "end = time()\n",
    "\n",
    "print(end - start)"
   ]
  },
  {
   "cell_type": "code",
   "execution_count": null,
   "id": "ee8c8c75",
   "metadata": {},
   "outputs": [],
   "source": []
  }
 ],
 "metadata": {
  "kernelspec": {
   "display_name": "Python 3",
   "language": "python",
   "name": "python3"
  },
  "language_info": {
   "codemirror_mode": {
    "name": "ipython",
    "version": 3
   },
   "file_extension": ".py",
   "mimetype": "text/x-python",
   "name": "python",
   "nbconvert_exporter": "python",
   "pygments_lexer": "ipython3",
   "version": "3.8.8"
  }
 },
 "nbformat": 4,
 "nbformat_minor": 5
}
